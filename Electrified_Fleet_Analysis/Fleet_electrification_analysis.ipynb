{
 "cells": [
  {
   "cell_type": "markdown",
   "id": "a10e4ee4",
   "metadata": {},
   "source": [
    "# Fleet Electrification Landscape 2024\n",
    "This notebook presents an analysis of the electrification status of logistics fleets based on user testing data from 300 participants across key countries focused on Europe and America, with special emphasis on Scandinavia and Germany.\n",
    "\n",
    "We explore fleet composition, electrification levels, charging behaviors, driver roles, and software tools used to identify key trends and opportunities for improvement.\n"
   ]
  },
  {
   "cell_type": "code",
   "execution_count": 1,
   "id": "a319e387",
   "metadata": {},
   "outputs": [
    {
     "data": {
      "text/html": [
       "<div>\n",
       "<style scoped>\n",
       "    .dataframe tbody tr th:only-of-type {\n",
       "        vertical-align: middle;\n",
       "    }\n",
       "\n",
       "    .dataframe tbody tr th {\n",
       "        vertical-align: top;\n",
       "    }\n",
       "\n",
       "    .dataframe thead th {\n",
       "        text-align: right;\n",
       "    }\n",
       "</style>\n",
       "<table border=\"1\" class=\"dataframe\">\n",
       "  <thead>\n",
       "    <tr style=\"text-align: right;\">\n",
       "      <th></th>\n",
       "      <th>Gender</th>\n",
       "      <th>Age</th>\n",
       "      <th>Country</th>\n",
       "      <th>Subcontracting Role</th>\n",
       "      <th>Fleet Role</th>\n",
       "      <th>Fleet Type</th>\n",
       "      <th>Industry</th>\n",
       "      <th>Fleet Size</th>\n",
       "      <th>Electrified Percentage</th>\n",
       "      <th>Charging Location</th>\n",
       "      <th>Fleet Planning Software</th>\n",
       "      <th>Charging Behavior</th>\n",
       "      <th>Battery Understanding (1-5)</th>\n",
       "      <th>Driver Charging Roles</th>\n",
       "    </tr>\n",
       "  </thead>\n",
       "  <tbody>\n",
       "    <tr>\n",
       "      <th>0</th>\n",
       "      <td>Non-Binary</td>\n",
       "      <td>53</td>\n",
       "      <td>Poland</td>\n",
       "      <td>my fleet is both subcontracted out and has its...</td>\n",
       "      <td>Transport manager</td>\n",
       "      <td>First mile</td>\n",
       "      <td>Food &amp; beverages</td>\n",
       "      <td>20-99</td>\n",
       "      <td>0-10%</td>\n",
       "      <td>planned onsite charging</td>\n",
       "      <td>TomTom Telematics</td>\n",
       "      <td>until they have enough range for the next tour</td>\n",
       "      <td>1</td>\n",
       "      <td>drivers are subject to strict delivery windows...</td>\n",
       "    </tr>\n",
       "    <tr>\n",
       "      <th>1</th>\n",
       "      <td>Male</td>\n",
       "      <td>35</td>\n",
       "      <td>Norway</td>\n",
       "      <td>my fleet has no contact with a subcontracted f...</td>\n",
       "      <td>Fleet analyst</td>\n",
       "      <td>First mile</td>\n",
       "      <td>Retail</td>\n",
       "      <td>20-99</td>\n",
       "      <td>0-10%</td>\n",
       "      <td>planned onsite charging</td>\n",
       "      <td>WorkWave Route Manager</td>\n",
       "      <td>until the departure time for the next tour</td>\n",
       "      <td>1</td>\n",
       "      <td>drivers determine when the charging session be...</td>\n",
       "    </tr>\n",
       "    <tr>\n",
       "      <th>2</th>\n",
       "      <td>Female</td>\n",
       "      <td>56</td>\n",
       "      <td>Australia</td>\n",
       "      <td>my fleet is subcontracted out to a depot</td>\n",
       "      <td>Driver</td>\n",
       "      <td>mid mile</td>\n",
       "      <td>Food &amp; beverages</td>\n",
       "      <td>100 or more</td>\n",
       "      <td>76-100%</td>\n",
       "      <td>spontaneous offsite charging</td>\n",
       "      <td>Descartes Route Planner</td>\n",
       "      <td>until 100%</td>\n",
       "      <td>4</td>\n",
       "      <td>drivers determine when the charging session be...</td>\n",
       "    </tr>\n",
       "    <tr>\n",
       "      <th>3</th>\n",
       "      <td>Non-Binary</td>\n",
       "      <td>47</td>\n",
       "      <td>Australia</td>\n",
       "      <td>my fleet is both subcontracted out and has its...</td>\n",
       "      <td>Logistics manager</td>\n",
       "      <td>last mile</td>\n",
       "      <td>Food &amp; beverages</td>\n",
       "      <td>100 or more</td>\n",
       "      <td>76-100%</td>\n",
       "      <td>spontaneous onsite charging</td>\n",
       "      <td>ORTEC</td>\n",
       "      <td>until 100%</td>\n",
       "      <td>4</td>\n",
       "      <td>drivers are responsible for finding offsite / ...</td>\n",
       "    </tr>\n",
       "    <tr>\n",
       "      <th>4</th>\n",
       "      <td>Female</td>\n",
       "      <td>40</td>\n",
       "      <td>Mexico</td>\n",
       "      <td>my fleet is subcontracted out to a depot</td>\n",
       "      <td>Lead Logistics coordinator</td>\n",
       "      <td>last mile</td>\n",
       "      <td>Retail</td>\n",
       "      <td>20-99</td>\n",
       "      <td>51-75%</td>\n",
       "      <td>spontaneous onsite charging</td>\n",
       "      <td>Fleet Complete</td>\n",
       "      <td>until the departure time for the next tour</td>\n",
       "      <td>3</td>\n",
       "      <td>drivers are responsible for finding offsite / ...</td>\n",
       "    </tr>\n",
       "  </tbody>\n",
       "</table>\n",
       "</div>"
      ],
      "text/plain": [
       "       Gender  Age    Country  \\\n",
       "0  Non-Binary   53     Poland   \n",
       "1        Male   35     Norway   \n",
       "2      Female   56  Australia   \n",
       "3  Non-Binary   47  Australia   \n",
       "4      Female   40     Mexico   \n",
       "\n",
       "                                 Subcontracting Role  \\\n",
       "0  my fleet is both subcontracted out and has its...   \n",
       "1  my fleet has no contact with a subcontracted f...   \n",
       "2           my fleet is subcontracted out to a depot   \n",
       "3  my fleet is both subcontracted out and has its...   \n",
       "4           my fleet is subcontracted out to a depot   \n",
       "\n",
       "                   Fleet Role  Fleet Type          Industry   Fleet Size  \\\n",
       "0           Transport manager  First mile  Food & beverages        20-99   \n",
       "1               Fleet analyst  First mile            Retail        20-99   \n",
       "2                      Driver    mid mile  Food & beverages  100 or more   \n",
       "3           Logistics manager   last mile  Food & beverages  100 or more   \n",
       "4  Lead Logistics coordinator   last mile            Retail        20-99   \n",
       "\n",
       "  Electrified Percentage             Charging Location  \\\n",
       "0                  0-10%       planned onsite charging   \n",
       "1                  0-10%       planned onsite charging   \n",
       "2                76-100%  spontaneous offsite charging   \n",
       "3                76-100%   spontaneous onsite charging   \n",
       "4                 51-75%   spontaneous onsite charging   \n",
       "\n",
       "   Fleet Planning Software                               Charging Behavior  \\\n",
       "0        TomTom Telematics  until they have enough range for the next tour   \n",
       "1   WorkWave Route Manager      until the departure time for the next tour   \n",
       "2  Descartes Route Planner                                      until 100%   \n",
       "3                    ORTEC                                      until 100%   \n",
       "4           Fleet Complete      until the departure time for the next tour   \n",
       "\n",
       "   Battery Understanding (1-5)  \\\n",
       "0                            1   \n",
       "1                            1   \n",
       "2                            4   \n",
       "3                            4   \n",
       "4                            3   \n",
       "\n",
       "                               Driver Charging Roles  \n",
       "0  drivers are subject to strict delivery windows...  \n",
       "1  drivers determine when the charging session be...  \n",
       "2  drivers determine when the charging session be...  \n",
       "3  drivers are responsible for finding offsite / ...  \n",
       "4  drivers are responsible for finding offsite / ...  "
      ]
     },
     "execution_count": 1,
     "metadata": {},
     "output_type": "execute_result"
    }
   ],
   "source": [
    "#load and inspect data\n",
    "\n",
    "import pandas as pd\n",
    "import matplotlib.pyplot as plt\n",
    "import seaborn as sns\n",
    "from collections import Counter\n",
    "\n",
    "\n",
    "# Load data\n",
    "df = pd.read_csv(\"fleet_user_testing_data.csv\")\n",
    "df = df.drop(columns=[\"Depot Operation\"])\n",
    "\n",
    "# Show first 5 rows\n",
    "df.head()"
   ]
  },
  {
   "cell_type": "markdown",
   "id": "15ce015c",
   "metadata": {},
   "source": [
    "The dataset contains 300 participants’ responses with information on demographics, fleet characteristics, charging behavior, and software tools used."
   ]
  },
  {
   "cell_type": "markdown",
   "id": "f48a50bd",
   "metadata": {},
   "source": [
    "### Proportion of electrified vehicles to fleet size\n",
    "\n",
    "**UX question:** Do larger fleets tend to have a higher number of electrified vehicles? This may influence the complexity of charging management needed.\n"
   ]
  },
  {
   "cell_type": "code",
   "execution_count": 2,
   "id": "4f55bff3",
   "metadata": {},
   "outputs": [
    {
     "data": {
      "image/png": "[encoded data removed]",
      "text/plain": [
       "<Figure size 1000x600 with 1 Axes>"
      ]
     },
     "metadata": {},
     "output_type": "display_data"
    }
   ],
   "source": [
    "import matplotlib.pyplot as plt\n",
    "\n",
    "# Ensure Fleet Size is ordered correctly\n",
    "fleet_size_order = [\"1-20\", \"20-99\", \"100 or more\"]\n",
    "df['Fleet Size'] = pd.Categorical(df['Fleet Size'], categories=fleet_size_order, ordered=True)\n",
    "\n",
    "# Create crosstab with normalized proportions\n",
    "cross_tab_pct = pd.crosstab(df['Fleet Size'], df['Electrified Percentage'], normalize='index')\n",
    "\n",
    "# Reindex to match desired order\n",
    "cross_tab_pct = cross_tab_pct.reindex(fleet_size_order)\n",
    "\n",
    "# Plot\n",
    "cross_tab_pct.plot(kind='bar', stacked=True, figsize=(10,6), colormap='magma')\n",
    "\n",
    "plt.title(\"Proportion of Electrification Levels by Fleet Size\")\n",
    "plt.ylabel(\"Proportion of Fleets\")\n",
    "plt.xlabel(\"Fleet Size\")\n",
    "plt.legend(title=\"Electrified Fleet (%)\", bbox_to_anchor=(1.05, 1), loc='upper left')\n",
    "plt.xticks(rotation=0)\n",
    "plt.tight_layout()\n",
    "plt.show()\n"
   ]
  },
  {
   "cell_type": "markdown",
   "id": "82a3cdd1",
   "metadata": {},
   "source": [
    "Above we can see some patterns to the levels of electrification of the fleets sampled- small and moderately sized fleets tend to have mostly moderately electrified (51-75% of vehicles), and large fleets with over 100 vehicles have an almost equal likelihood of having barely electrified, having electrified a quarter to a half of all vehicles, or having almost completely electrified "
   ]
  },
  {
   "cell_type": "markdown",
   "id": "382e38ab",
   "metadata": {},
   "source": [
    "**UX question:** What charging behaviors dominate? Does the preference for charging until 100% or just enough range suggest opportunities for app features or training?\n"
   ]
  },
  {
   "cell_type": "code",
   "execution_count": 3,
   "id": "6a2af8b1",
   "metadata": {},
   "outputs": [
    {
     "name": "stderr",
     "output_type": "stream",
     "text": [
      "/var/folders/z3/smzjm1wn7sdbw5trxnn2tfjr0000gn/T/ipykernel_13139/4098634339.py:12: FutureWarning: \n",
      "\n",
      "Passing `palette` without assigning `hue` is deprecated and will be removed in v0.14.0. Assign the `x` variable to `hue` and set `legend=False` for the same effect.\n",
      "\n",
      "  sns.barplot(\n"
     ]
    },
    {
     "data": {
      "image/png": "[encoded data removed]",
      "text/plain": [
       "<Figure size 1000x600 with 1 Axes>"
      ]
     },
     "metadata": {},
     "output_type": "display_data"
    }
   ],
   "source": [
    "import matplotlib.pyplot as plt\n",
    "import seaborn as sns\n",
    "\n",
    "# Set figure and style\n",
    "plt.figure(figsize=(10,6))\n",
    "sns.set_style(\"whitegrid\")\n",
    "\n",
    "# Count values\n",
    "charge_behavior_counts = df['Charging Behavior'].value_counts()\n",
    "\n",
    "# Plot with updated palette and cleaner layout\n",
    "sns.barplot(\n",
    "    x=charge_behavior_counts.index,\n",
    "    y=charge_behavior_counts.values,\n",
    "    palette='Set2'\n",
    ")\n",
    "\n",
    "# Label formatting\n",
    "plt.title(\"Preferred Charging Behaviors Across Fleets\")\n",
    "plt.ylabel(\"Number of Participants\")\n",
    "plt.xlabel(\"Charging Behavior\")\n",
    "plt.xticks(rotation=20, ha='right')\n",
    "plt.tight_layout()\n",
    "\n",
    "plt.show()\n"
   ]
  },
  {
   "cell_type": "markdown",
   "id": "322c81a9",
   "metadata": {},
   "source": [
    "Now let's look at the driver autonomy, since we do not know if the above item is informed by fleet policy or by the driver behaviour itself"
   ]
  },
  {
   "cell_type": "code",
   "execution_count": 4,
   "id": "2727f9d5",
   "metadata": {},
   "outputs": [
    {
     "name": "stderr",
     "output_type": "stream",
     "text": [
      "/var/folders/z3/smzjm1wn7sdbw5trxnn2tfjr0000gn/T/ipykernel_13139/3440134980.py:11: FutureWarning: \n",
      "\n",
      "Passing `palette` without assigning `hue` is deprecated and will be removed in v0.14.0. Assign the `y` variable to `hue` and set `legend=False` for the same effect.\n",
      "\n",
      "  sns.barplot(data=role_df, y=\"Driver Role\", x=\"Count\", palette=\"crest\")\n"
     ]
    },
    {
     "data": {
      "image/png": "[encoded data removed]",
      "text/plain": [
       "<Figure size 1200x600 with 1 Axes>"
      ]
     },
     "metadata": {},
     "output_type": "display_data"
    }
   ],
   "source": [
    "# Split and flatten the multi-select answers\n",
    "all_roles = df['Driver Charging Roles'].dropna().str.split(', ')\n",
    "flat_roles = [role for sublist in all_roles for role in sublist]\n",
    "\n",
    "# Count occurrences\n",
    "role_counts = Counter(flat_roles)\n",
    "role_df = pd.DataFrame(role_counts.items(), columns=[\"Driver Role\", \"Count\"]).sort_values(by=\"Count\", ascending=False)\n",
    "\n",
    "# Plot\n",
    "plt.figure(figsize=(12,6))\n",
    "sns.barplot(data=role_df, y=\"Driver Role\", x=\"Count\", palette=\"crest\")\n",
    "plt.title(\"Distribution of Driver Charging Responsibilities\")\n",
    "plt.xlabel(\"Number of Fleets Selecting This Role\")\n",
    "plt.ylabel(\"Driver Responsibility\")\n",
    "plt.tight_layout()\n",
    "plt.show()"
   ]
  },
  {
   "cell_type": "markdown",
   "id": "351f3be6",
   "metadata": {},
   "source": [
    "This item was a difficult one to do without in-depth interviewing, but necessary to get some overarching insights- as is shown here, for just over half of the sample drivers themselves determine when the charging session ends and just over half are also subject to strict delivery windows-possibly showing that the split for more regulated drivers and more autonomous is 50/50- further drilling down is required to truly show this\n",
    "\n",
    "***Lets look at the geography to see if theres a pattern in different countries***"
   ]
  },
  {
   "cell_type": "code",
   "execution_count": 5,
   "id": "9bb2e069",
   "metadata": {},
   "outputs": [
    {
     "data": {
      "text/plain": [
       "<Figure size 1200x800 with 0 Axes>"
      ]
     },
     "metadata": {},
     "output_type": "display_data"
    },
    {
     "data": {
      "image/png": "[encoded data removed]",
      "text/plain": [
       "<Figure size 1400x800 with 1 Axes>"
      ]
     },
     "metadata": {},
     "output_type": "display_data"
    }
   ],
   "source": [
    "# Define regional groups\n",
    "scandinavia = ['Sweden', 'Norway', 'Finland', 'Denmark']\n",
    "europe = ['Germany', 'France', 'Netherlands', 'UK', 'Spain', 'Italy', 'Belgium', 'Austria', 'Switzerland', 'Ireland', 'Poland'] + scandinavia\n",
    "\n",
    "def classify_region(country):\n",
    "    if country in scandinavia:\n",
    "        return 'Scandinavia'\n",
    "    elif country in europe:\n",
    "        return 'Rest of Europe'\n",
    "    else:\n",
    "        return 'Outside Europe'\n",
    "\n",
    "# Add region column\n",
    "df['Region'] = df['Country'].apply(classify_region)\n",
    "\n",
    "# Extract binary indicators for each role\n",
    "all_roles = df['Driver Charging Roles'].dropna().str.get_dummies(sep=', ')\n",
    "df_roles = pd.concat([df[['Region']], all_roles], axis=1)\n",
    "\n",
    "# Compute proportions\n",
    "role_proportions = df_roles.groupby(\"Region\").mean().T  # Transpose for plotting\n",
    "\n",
    "# Plot grouped bar chart\n",
    "plt.figure(figsize=(12,8))\n",
    "role_proportions.plot(kind='barh', figsize=(14,8), colormap='Set2')\n",
    "\n",
    "plt.title(\"Proportion of Fleets with Each Driver Responsibility by Region\")\n",
    "plt.xlabel(\"Proportion of Fleets Selecting This Role\")\n",
    "plt.ylabel(\"Driver Charging Responsibilities\")\n",
    "plt.legend(title=\"Region\", bbox_to_anchor=(1.05, 1), loc='upper left')\n",
    "plt.tight_layout()\n",
    "plt.show()"
   ]
  },
  {
   "cell_type": "markdown",
   "id": "ef14046f",
   "metadata": {},
   "source": [
    "**UX question:** What is the overall level of driver understanding of EV battery range? Is there room for educational features or in-app prompts to support drivers?\n"
   ]
  },
  {
   "cell_type": "code",
   "execution_count": 6,
   "id": "4852b295",
   "metadata": {},
   "outputs": [
    {
     "name": "stderr",
     "output_type": "stream",
     "text": [
      "/var/folders/z3/smzjm1wn7sdbw5trxnn2tfjr0000gn/T/ipykernel_13139/2885502253.py:2: FutureWarning: \n",
      "\n",
      "Passing `palette` without assigning `hue` is deprecated and will be removed in v0.14.0. Assign the `x` variable to `hue` and set `legend=False` for the same effect.\n",
      "\n",
      "  sns.countplot(data=df, x='Battery Understanding (1-5)', palette='Blues')\n"
     ]
    },
    {
     "data": {
      "image/png": "[encoded data removed]",
      "text/plain": [
       "<Figure size 800x500 with 1 Axes>"
      ]
     },
     "metadata": {},
     "output_type": "display_data"
    }
   ],
   "source": [
    "plt.figure(figsize=(8,5))\n",
    "sns.countplot(data=df, x='Battery Understanding (1-5)', palette='Blues')\n",
    "plt.title(\"Driver Battery Range Understanding Ratings\")\n",
    "plt.xlabel(\"Understanding Rating (1=Low, 5=High)\")\n",
    "plt.ylabel(\"Count\")\n",
    "plt.show()\n"
   ]
  },
  {
   "cell_type": "markdown",
   "id": "48a9d0b4",
   "metadata": {},
   "source": [
    "This shows moderately even distribution between the different options for the question, which is good, but gives no insight into what impacts driver range comprehension- so I will now use the proportion of electrified vehicles in the fleet to inform these answers and see what comes out"
   ]
  },
  {
   "cell_type": "code",
   "execution_count": 7,
   "id": "91b9252e",
   "metadata": {},
   "outputs": [
    {
     "name": "stderr",
     "output_type": "stream",
     "text": [
      "/var/folders/z3/smzjm1wn7sdbw5trxnn2tfjr0000gn/T/ipykernel_13139/3145206077.py:10: FutureWarning: \n",
      "\n",
      "Passing `palette` without assigning `hue` is deprecated and will be removed in v0.14.0. Assign the `x` variable to `hue` and set `legend=False` for the same effect.\n",
      "\n",
      "  sns.boxplot(\n"
     ]
    },
    {
     "data": {
      "image/png": "[encoded data removed]",
      "text/plain": [
       "<Figure size 1000x600 with 1 Axes>"
      ]
     },
     "metadata": {},
     "output_type": "display_data"
    }
   ],
   "source": [
    "import matplotlib.pyplot as plt\n",
    "import seaborn as sns\n",
    "\n",
    "# Ensure ordered category for plotting\n",
    "electrified_order = [\"0-10%\", \"11-25%\", \"26-50%\", \"51-75%\", \"76-100%\"]\n",
    "df['Electrified Percentage'] = pd.Categorical(df['Electrified Percentage'], categories=electrified_order, ordered=True)\n",
    "\n",
    "# Plot\n",
    "plt.figure(figsize=(10,6))\n",
    "sns.boxplot(\n",
    "    data=df,\n",
    "    x='Electrified Percentage',\n",
    "    y='Battery Understanding (1-5)',  # Replace with actual name\n",
    "    palette='Blues'\n",
    ")\n",
    "\n",
    "plt.title(\"Driver Battery Understanding vs Fleet Electrification Level\")\n",
    "plt.xlabel(\"Fleet Electrified (%)\")\n",
    "plt.ylabel(\"Battery Understanding (1 = Low, 5 = High)\")\n",
    "plt.ylim(0.5, 5.5)\n",
    "plt.tight_layout()\n",
    "plt.show()\n",
    "\n"
   ]
  },
  {
   "cell_type": "markdown",
   "id": "c271efd7",
   "metadata": {},
   "source": [
    "Interestingly, in all cases of fleet percentage of electrification, the distribution of driver understanding of range was looking normal (distributed in such a way that there was no skew either way), except for in the case of fleets with 11-25% of electrification, where the majority of drivers were thought to have very high understanding of how the range on their vehicles work. \n",
    "\n",
    "Possible follow up research questions could be- what categories of fleets are these (first mile, mid mile, last mile)? An hypothesis here would be that first mile drivers may have a better understanding for their electric vehicles ranges, because the scenario for running out of battery is more dire."
   ]
  },
  {
   "cell_type": "code",
   "execution_count": 8,
   "id": "0c47b6f6",
   "metadata": {},
   "outputs": [
    {
     "data": {
      "application/vnd.plotly.v1+json": {
       "config": {
        "plotlyServerURL": "https://plot.ly"
       },
       "data": [
        {
         "branchvalues": "total",
         "customdata": [
          [
           "Automotive"
          ],
          [
           "Automotive"
          ],
          [
           "Automotive"
          ],
          [
           "Automotive"
          ],
          [
           "Automotive"
          ],
          [
           "Automotive"
          ],
          [
           "Automotive"
          ],
          [
           "Automotive"
          ],
          [
           "Automotive"
          ],
          [
           "Automotive"
          ],
          [
           "Automotive"
          ],
          [
           "Education"
          ],
          [
           "Education"
          ],
          [
           "Education"
          ],
          [
           "Education"
          ],
          [
           "Education"
          ],
          [
           "Education"
          ],
          [
           "Education"
          ],
          [
           "Education"
          ],
          [
           "Education"
          ],
          [
           "Education"
          ],
          [
           "Food & beverages"
          ],
          [
           "Food & beverages"
          ],
          [
           "Food & beverages"
          ],
          [
           "Food & beverages"
          ],
          [
           "Food & beverages"
          ],
          [
           "Food & beverages"
          ],
          [
           "Food & beverages"
          ],
          [
           "Food & beverages"
          ],
          [
           "Food & beverages"
          ],
          [
           "Food & beverages"
          ],
          [
           "Food & beverages"
          ],
          [
           "Manufacturer & distribution"
          ],
          [
           "Manufacturer & distribution"
          ],
          [
           "Manufacturer & distribution"
          ],
          [
           "Manufacturer & distribution"
          ],
          [
           "Manufacturer & distribution"
          ],
          [
           "Manufacturer & distribution"
          ],
          [
           "Manufacturer & distribution"
          ],
          [
           "Manufacturer & distribution"
          ],
          [
           "Manufacturer & distribution"
          ],
          [
           "Manufacturer & distribution"
          ],
          [
           "Manufacturer & distribution"
          ],
          [
           "Pharmaceutical"
          ],
          [
           "Pharmaceutical"
          ],
          [
           "Pharmaceutical"
          ],
          [
           "Pharmaceutical"
          ],
          [
           "Pharmaceutical"
          ],
          [
           "Pharmaceutical"
          ],
          [
           "Pharmaceutical"
          ],
          [
           "Pharmaceutical"
          ],
          [
           "Pharmaceutical"
          ],
          [
           "Pharmaceutical"
          ],
          [
           "Pharmaceutical"
          ],
          [
           "Retail"
          ],
          [
           "Retail"
          ],
          [
           "Retail"
          ],
          [
           "Retail"
          ],
          [
           "Retail"
          ],
          [
           "Retail"
          ],
          [
           "Retail"
          ],
          [
           "Retail"
          ],
          [
           "Retail"
          ],
          [
           "Retail"
          ],
          [
           "Retail"
          ],
          [
           "Transportation"
          ],
          [
           "Transportation"
          ],
          [
           "Transportation"
          ],
          [
           "Transportation"
          ],
          [
           "Transportation"
          ],
          [
           "Transportation"
          ],
          [
           "Transportation"
          ],
          [
           "Transportation"
          ],
          [
           "Transportation"
          ],
          [
           "Transportation"
          ],
          [
           "Transportation"
          ],
          [
           "other"
          ],
          [
           "other"
          ],
          [
           "other"
          ],
          [
           "other"
          ],
          [
           "other"
          ],
          [
           "other"
          ],
          [
           "other"
          ],
          [
           "other"
          ],
          [
           "other"
          ],
          [
           "other"
          ],
          [
           "other"
          ]
         ],
         "domain": {
          "x": [
           0,
           1
          ],
          "y": [
           0,
           1
          ]
         },
         "hovertemplate": "labels=%{label}<br>Count=%{value}<br>parent=%{parent}<br>id=%{id}<br>Industry=%{customdata[0]}<extra></extra>",
         "ids": [
          "Automotive/Depot manager",
          "Automotive/Driver",
          "Automotive/Fleet analyst",
          "Automotive/Fleet manager",
          "Automotive/Lead Logistics coordinator",
          "Automotive/Lead Operations manager",
          "Automotive/Logistics manager",
          "Automotive/Transport manager",
          "Automotive/Vehicle maintenance manager",
          "Automotive/Warehouse operations manager",
          "Automotive",
          "Education",
          "Education/Warehouse operations manager",
          "Education/Vehicle maintenance manager",
          "Education/Transport manager",
          "Education/Fleet manager",
          "Education/Lead Operations manager",
          "Education/Lead Logistics coordinator",
          "Education/Fleet analyst",
          "Education/Depot manager",
          "Education/Logistics manager",
          "Food & beverages/Vehicle maintenance manager",
          "Food & beverages",
          "Food & beverages/Warehouse operations manager",
          "Food & beverages/Transport manager",
          "Food & beverages/Fleet manager",
          "Food & beverages/Lead Operations manager",
          "Food & beverages/Lead Logistics coordinator",
          "Food & beverages/Depot manager",
          "Food & beverages/Driver",
          "Food & beverages/Fleet analyst",
          "Food & beverages/Logistics manager",
          "Manufacturer & distribution",
          "Manufacturer & distribution/Warehouse operations manager",
          "Manufacturer & distribution/Vehicle maintenance manager",
          "Manufacturer & distribution/Transport manager",
          "Manufacturer & distribution/Logistics manager",
          "Manufacturer & distribution/Lead Logistics coordinator",
          "Manufacturer & distribution/Fleet manager",
          "Manufacturer & distribution/Fleet analyst",
          "Manufacturer & distribution/Driver",
          "Manufacturer & distribution/Depot manager",
          "Manufacturer & distribution/Lead Operations manager",
          "Pharmaceutical",
          "Pharmaceutical/Warehouse operations manager",
          "Pharmaceutical/Vehicle maintenance manager",
          "Pharmaceutical/Lead Logistics coordinator",
          "Pharmaceutical/Logistics manager",
          "Pharmaceutical/Fleet manager",
          "Pharmaceutical/Fleet analyst",
          "Pharmaceutical/Driver",
          "Pharmaceutical/Depot manager",
          "Pharmaceutical/Transport manager",
          "Pharmaceutical/Lead Operations manager",
          "Retail/Lead Logistics coordinator",
          "Retail/Lead Operations manager",
          "Retail/Logistics manager",
          "Retail/Vehicle maintenance manager",
          "Retail/Warehouse operations manager",
          "Retail",
          "Retail/Fleet analyst",
          "Retail/Driver",
          "Retail/Depot manager",
          "Retail/Fleet manager",
          "Retail/Transport manager",
          "Transportation/Warehouse operations manager",
          "Transportation",
          "Transportation/Transport manager",
          "Transportation/Logistics manager",
          "Transportation/Depot manager",
          "Transportation/Driver",
          "Transportation/Fleet analyst",
          "Transportation/Fleet manager",
          "Transportation/Lead Logistics coordinator",
          "Transportation/Lead Operations manager",
          "Transportation/Vehicle maintenance manager",
          "other/Warehouse operations manager",
          "other/Vehicle maintenance manager",
          "other/Logistics manager",
          "other/Lead Operations manager",
          "other/Lead Logistics coordinator",
          "other/Fleet manager",
          "other/Fleet analyst",
          "other/Driver",
          "other/Depot manager",
          "other/Transport manager",
          "other"
         ],
         "labels": [
          "Depot manager",
          "Driver",
          "Fleet analyst",
          "Fleet manager",
          "Lead Logistics coordinator",
          "Lead Operations manager",
          "Logistics manager",
          "Transport manager",
          "Vehicle maintenance manager",
          "Warehouse operations manager",
          "Automotive",
          "Education",
          "Warehouse operations manager",
          "Vehicle maintenance manager",
          "Transport manager",
          "Fleet manager",
          "Lead Operations manager",
          "Lead Logistics coordinator",
          "Fleet analyst",
          "Depot manager",
          "Logistics manager",
          "Vehicle maintenance manager",
          "Food & beverages",
          "Warehouse operations manager",
          "Transport manager",
          "Fleet manager",
          "Lead Operations manager",
          "Lead Logistics coordinator",
          "Depot manager",
          "Driver",
          "Fleet analyst",
          "Logistics manager",
          "Manufacturer & distribution",
          "Warehouse operations manager",
          "Vehicle maintenance manager",
          "Transport manager",
          "Logistics manager",
          "Lead Logistics coordinator",
          "Fleet manager",
          "Fleet analyst",
          "Driver",
          "Depot manager",
          "Lead Operations manager",
          "Pharmaceutical",
          "Warehouse operations manager",
          "Vehicle maintenance manager",
          "Lead Logistics coordinator",
          "Logistics manager",
          "Fleet manager",
          "Fleet analyst",
          "Driver",
          "Depot manager",
          "Transport manager",
          "Lead Operations manager",
          "Lead Logistics coordinator",
          "Lead Operations manager",
          "Logistics manager",
          "Vehicle maintenance manager",
          "Warehouse operations manager",
          "Retail",
          "Fleet analyst",
          "Driver",
          "Depot manager",
          "Fleet manager",
          "Transport manager",
          "Warehouse operations manager",
          "Transportation",
          "Transport manager",
          "Logistics manager",
          "Depot manager",
          "Driver",
          "Fleet analyst",
          "Fleet manager",
          "Lead Logistics coordinator",
          "Lead Operations manager",
          "Vehicle maintenance manager",
          "Warehouse operations manager",
          "Vehicle maintenance manager",
          "Logistics manager",
          "Lead Operations manager",
          "Lead Logistics coordinator",
          "Fleet manager",
          "Fleet analyst",
          "Driver",
          "Depot manager",
          "Transport manager",
          "other"
         ],
         "marker": {
          "colors": [
           "#636efa",
           "#636efa",
           "#636efa",
           "#636efa",
           "#636efa",
           "#636efa",
           "#636efa",
           "#636efa",
           "#636efa",
           "#636efa",
           "#636efa",
           "#EF553B",
           "#EF553B",
           "#EF553B",
           "#EF553B",
           "#EF553B",
           "#EF553B",
           "#EF553B",
           "#EF553B",
           "#EF553B",
           "#EF553B",
           "#00cc96",
           "#00cc96",
           "#00cc96",
           "#00cc96",
           "#00cc96",
           "#00cc96",
           "#00cc96",
           "#00cc96",
           "#00cc96",
           "#00cc96",
           "#00cc96",
           "#ab63fa",
           "#ab63fa",
           "#ab63fa",
           "#ab63fa",
           "#ab63fa",
           "#ab63fa",
           "#ab63fa",
           "#ab63fa",
           "#ab63fa",
           "#ab63fa",
           "#ab63fa",
           "#FFA15A",
           "#FFA15A",
           "#FFA15A",
           "#FFA15A",
           "#FFA15A",
           "#FFA15A",
           "#FFA15A",
           "#FFA15A",
           "#FFA15A",
           "#FFA15A",
           "#FFA15A",
           "#19d3f3",
           "#19d3f3",
           "#19d3f3",
           "#19d3f3",
           "#19d3f3",
           "#19d3f3",
           "#19d3f3",
           "#19d3f3",
           "#19d3f3",
           "#19d3f3",
           "#19d3f3",
           "#FF6692",
           "#FF6692",
           "#FF6692",
           "#FF6692",
           "#FF6692",
           "#FF6692",
           "#FF6692",
           "#FF6692",
           "#FF6692",
           "#FF6692",
           "#FF6692",
           "#B6E880",
           "#B6E880",
           "#B6E880",
           "#B6E880",
           "#B6E880",
           "#B6E880",
           "#B6E880",
           "#B6E880",
           "#B6E880",
           "#B6E880",
           "#B6E880"
          ]
         },
         "name": "",
         "parents": [
          "Automotive",
          "Automotive",
          "Automotive",
          "Automotive",
          "Automotive",
          "Automotive",
          "Automotive",
          "Automotive",
          "Automotive",
          "Automotive",
          "",
          "",
          "Education",
          "Education",
          "Education",
          "Education",
          "Education",
          "Education",
          "Education",
          "Education",
          "Education",
          "Food & beverages",
          "",
          "Food & beverages",
          "Food & beverages",
          "Food & beverages",
          "Food & beverages",
          "Food & beverages",
          "Food & beverages",
          "Food & beverages",
          "Food & beverages",
          "Food & beverages",
          "",
          "Manufacturer & distribution",
          "Manufacturer & distribution",
          "Manufacturer & distribution",
          "Manufacturer & distribution",
          "Manufacturer & distribution",
          "Manufacturer & distribution",
          "Manufacturer & distribution",
          "Manufacturer & distribution",
          "Manufacturer & distribution",
          "Manufacturer & distribution",
          "",
          "Pharmaceutical",
          "Pharmaceutical",
          "Pharmaceutical",
          "Pharmaceutical",
          "Pharmaceutical",
          "Pharmaceutical",
          "Pharmaceutical",
          "Pharmaceutical",
          "Pharmaceutical",
          "Pharmaceutical",
          "Retail",
          "Retail",
          "Retail",
          "Retail",
          "Retail",
          "",
          "Retail",
          "Retail",
          "Retail",
          "Retail",
          "Retail",
          "Transportation",
          "",
          "Transportation",
          "Transportation",
          "Transportation",
          "Transportation",
          "Transportation",
          "Transportation",
          "Transportation",
          "Transportation",
          "Transportation",
          "other",
          "other",
          "other",
          "other",
          "other",
          "other",
          "other",
          "other",
          "other",
          "other",
          ""
         ],
         "type": "sunburst",
         "values": {
          "bdata": "AAAAAAAAGEAAAAAAAAAgQAAAAAAAABBAAAAAAAAACEAAAAAAAAAQQAAAAAAAAAhAAAAAAAAA8D8AAAAAAAAAQAAAAAAAAAhAAAAAAAAAIEAAAAAAAABFQAAAAAAAAEBAAAAAAAAAEEAAAAAAAAAIQAAAAAAAACBAAAAAAAAAEEAAAAAAAAAYQAAAAAAAAPA/AAAAAAAAAEAAAAAAAAAIQAAAAAAAAPA/AAAAAAAAAEAAAAAAAIBCQAAAAAAAABBAAAAAAAAAAEAAAAAAAAAAQAAAAAAAAAhAAAAAAAAAGEAAAAAAAAAIQAAAAAAAACBAAAAAAAAA8D8AAAAAAAAYQAAAAAAAgENAAAAAAAAAFEAAAAAAAAAQQAAAAAAAAABAAAAAAAAAFEAAAAAAAADwPwAAAAAAABBAAAAAAAAAGEAAAAAAAAAQQAAAAAAAABBAAAAAAAAAEEAAAAAAAAA/QAAAAAAAAAhAAAAAAAAAEEAAAAAAAAAQQAAAAAAAABBAAAAAAAAAAEAAAAAAAADwPwAAAAAAABBAAAAAAAAAAEAAAAAAAAAQQAAAAAAAAAhAAAAAAAAAHEAAAAAAAADwPwAAAAAAAPA/AAAAAAAACEAAAAAAAAAYQAAAAAAAgERAAAAAAAAAGEAAAAAAAAAYQAAAAAAAAAhAAAAAAAAACEAAAAAAAAAUQAAAAAAAABhAAAAAAAAARUAAAAAAAAAIQAAAAAAAAABAAAAAAAAACEAAAAAAAAAQQAAAAAAAABhAAAAAAAAAFEAAAAAAAAAAQAAAAAAAABxAAAAAAAAAEEAAAAAAAAAQQAAAAAAAABhAAAAAAAAACEAAAAAAAAAYQAAAAAAAAABAAAAAAAAA8D8AAAAAAAAQQAAAAAAAAABAAAAAAAAAAEAAAAAAAAAYQAAAAAAAAEJA",
          "dtype": "f8"
         }
        }
       ],
       "layout": {
        "legend": {
         "tracegroupgap": 0
        },
        "margin": {
         "b": 0,
         "l": 0,
         "r": 0,
         "t": 40
        },
        "template": {
         "data": {
          "bar": [
           {
            "error_x": {
             "color": "#2a3f5f"
            },
            "error_y": {
             "color": "#2a3f5f"
            },
            "marker": {
             "line": {
              "color": "#E5ECF6",
              "width": 0.5
             },
             "pattern": {
              "fillmode": "overlay",
              "size": 10,
              "solidity": 0.2
             }
            },
            "type": "bar"
           }
          ],
          "barpolar": [
           {
            "marker": {
             "line": {
              "color": "#E5ECF6",
              "width": 0.5
             },
             "pattern": {
              "fillmode": "overlay",
              "size": 10,
              "solidity": 0.2
             }
            },
            "type": "barpolar"
           }
          ],
          "carpet": [
           {
            "aaxis": {
             "endlinecolor": "#2a3f5f",
             "gridcolor": "white",
             "linecolor": "white",
             "minorgridcolor": "white",
             "startlinecolor": "#2a3f5f"
            },
            "baxis": {
             "endlinecolor": "#2a3f5f",
             "gridcolor": "white",
             "linecolor": "white",
             "minorgridcolor": "white",
             "startlinecolor": "#2a3f5f"
            },
            "type": "carpet"
           }
          ],
          "choropleth": [
           {
            "colorbar": {
             "outlinewidth": 0,
             "ticks": ""
            },
            "type": "choropleth"
           }
          ],
          "contour": [
           {
            "colorbar": {
             "outlinewidth": 0,
             "ticks": ""
            },
            "colorscale": [
             [
              0,
              "#0d0887"
             ],
             [
              0.1111111111111111,
              "#46039f"
             ],
             [
              0.2222222222222222,
              "#7201a8"
             ],
             [
              0.3333333333333333,
              "#9c179e"
             ],
             [
              0.4444444444444444,
              "#bd3786"
             ],
             [
              0.5555555555555556,
              "#d8576b"
             ],
             [
              0.6666666666666666,
              "#ed7953"
             ],
             [
              0.7777777777777778,
              "#fb9f3a"
             ],
             [
              0.8888888888888888,
              "#fdca26"
             ],
             [
              1,
              "#f0f921"
             ]
            ],
            "type": "contour"
           }
          ],
          "contourcarpet": [
           {
            "colorbar": {
             "outlinewidth": 0,
             "ticks": ""
            },
            "type": "contourcarpet"
           }
          ],
          "heatmap": [
           {
            "colorbar": {
             "outlinewidth": 0,
             "ticks": ""
            },
            "colorscale": [
             [
              0,
              "#0d0887"
             ],
             [
              0.1111111111111111,
              "#46039f"
             ],
             [
              0.2222222222222222,
              "#7201a8"
             ],
             [
              0.3333333333333333,
              "#9c179e"
             ],
             [
              0.4444444444444444,
              "#bd3786"
             ],
             [
              0.5555555555555556,
              "#d8576b"
             ],
             [
              0.6666666666666666,
              "#ed7953"
             ],
             [
              0.7777777777777778,
              "#fb9f3a"
             ],
             [
              0.8888888888888888,
              "#fdca26"
             ],
             [
              1,
              "#f0f921"
             ]
            ],
            "type": "heatmap"
           }
          ],
          "histogram": [
           {
            "marker": {
             "pattern": {
              "fillmode": "overlay",
              "size": 10,
              "solidity": 0.2
             }
            },
            "type": "histogram"
           }
          ],
          "histogram2d": [
           {
            "colorbar": {
             "outlinewidth": 0,
             "ticks": ""
            },
            "colorscale": [
             [
              0,
              "#0d0887"
             ],
             [
              0.1111111111111111,
              "#46039f"
             ],
             [
              0.2222222222222222,
              "#7201a8"
             ],
             [
              0.3333333333333333,
              "#9c179e"
             ],
             [
              0.4444444444444444,
              "#bd3786"
             ],
             [
              0.5555555555555556,
              "#d8576b"
             ],
             [
              0.6666666666666666,
              "#ed7953"
             ],
             [
              0.7777777777777778,
              "#fb9f3a"
             ],
             [
              0.8888888888888888,
              "#fdca26"
             ],
             [
              1,
              "#f0f921"
             ]
            ],
            "type": "histogram2d"
           }
          ],
          "histogram2dcontour": [
           {
            "colorbar": {
             "outlinewidth": 0,
             "ticks": ""
            },
            "colorscale": [
             [
              0,
              "#0d0887"
             ],
             [
              0.1111111111111111,
              "#46039f"
             ],
             [
              0.2222222222222222,
              "#7201a8"
             ],
             [
              0.3333333333333333,
              "#9c179e"
             ],
             [
              0.4444444444444444,
              "#bd3786"
             ],
             [
              0.5555555555555556,
              "#d8576b"
             ],
             [
              0.6666666666666666,
              "#ed7953"
             ],
             [
              0.7777777777777778,
              "#fb9f3a"
             ],
             [
              0.8888888888888888,
              "#fdca26"
             ],
             [
              1,
              "#f0f921"
             ]
            ],
            "type": "histogram2dcontour"
           }
          ],
          "mesh3d": [
           {
            "colorbar": {
             "outlinewidth": 0,
             "ticks": ""
            },
            "type": "mesh3d"
           }
          ],
          "parcoords": [
           {
            "line": {
             "colorbar": {
              "outlinewidth": 0,
              "ticks": ""
             }
            },
            "type": "parcoords"
           }
          ],
          "pie": [
           {
            "automargin": true,
            "type": "pie"
           }
          ],
          "scatter": [
           {
            "fillpattern": {
             "fillmode": "overlay",
             "size": 10,
             "solidity": 0.2
            },
            "type": "scatter"
           }
          ],
          "scatter3d": [
           {
            "line": {
             "colorbar": {
              "outlinewidth": 0,
              "ticks": ""
             }
            },
            "marker": {
             "colorbar": {
              "outlinewidth": 0,
              "ticks": ""
             }
            },
            "type": "scatter3d"
           }
          ],
          "scattercarpet": [
           {
            "marker": {
             "colorbar": {
              "outlinewidth": 0,
              "ticks": ""
             }
            },
            "type": "scattercarpet"
           }
          ],
          "scattergeo": [
           {
            "marker": {
             "colorbar": {
              "outlinewidth": 0,
              "ticks": ""
             }
            },
            "type": "scattergeo"
           }
          ],
          "scattergl": [
           {
            "marker": {
             "colorbar": {
              "outlinewidth": 0,
              "ticks": ""
             }
            },
            "type": "scattergl"
           }
          ],
          "scattermap": [
           {
            "marker": {
             "colorbar": {
              "outlinewidth": 0,
              "ticks": ""
             }
            },
            "type": "scattermap"
           }
          ],
          "scattermapbox": [
           {
            "marker": {
             "colorbar": {
              "outlinewidth": 0,
              "ticks": ""
             }
            },
            "type": "scattermapbox"
           }
          ],
          "scatterpolar": [
           {
            "marker": {
             "colorbar": {
              "outlinewidth": 0,
              "ticks": ""
             }
            },
            "type": "scatterpolar"
           }
          ],
          "scatterpolargl": [
           {
            "marker": {
             "colorbar": {
              "outlinewidth": 0,
              "ticks": ""
             }
            },
            "type": "scatterpolargl"
           }
          ],
          "scatterternary": [
           {
            "marker": {
             "colorbar": {
              "outlinewidth": 0,
              "ticks": ""
             }
            },
            "type": "scatterternary"
           }
          ],
          "surface": [
           {
            "colorbar": {
             "outlinewidth": 0,
             "ticks": ""
            },
            "colorscale": [
             [
              0,
              "#0d0887"
             ],
             [
              0.1111111111111111,
              "#46039f"
             ],
             [
              0.2222222222222222,
              "#7201a8"
             ],
             [
              0.3333333333333333,
              "#9c179e"
             ],
             [
              0.4444444444444444,
              "#bd3786"
             ],
             [
              0.5555555555555556,
              "#d8576b"
             ],
             [
              0.6666666666666666,
              "#ed7953"
             ],
             [
              0.7777777777777778,
              "#fb9f3a"
             ],
             [
              0.8888888888888888,
              "#fdca26"
             ],
             [
              1,
              "#f0f921"
             ]
            ],
            "type": "surface"
           }
          ],
          "table": [
           {
            "cells": {
             "fill": {
              "color": "#EBF0F8"
             },
             "line": {
              "color": "white"
             }
            },
            "header": {
             "fill": {
              "color": "#C8D4E3"
             },
             "line": {
              "color": "white"
             }
            },
            "type": "table"
           }
          ]
         },
         "layout": {
          "annotationdefaults": {
           "arrowcolor": "#2a3f5f",
           "arrowhead": 0,
           "arrowwidth": 1
          },
          "autotypenumbers": "strict",
          "coloraxis": {
           "colorbar": {
            "outlinewidth": 0,
            "ticks": ""
           }
          },
          "colorscale": {
           "diverging": [
            [
             0,
             "#8e0152"
            ],
            [
             0.1,
             "#c51b7d"
            ],
            [
             0.2,
             "#de77ae"
            ],
            [
             0.3,
             "#f1b6da"
            ],
            [
             0.4,
             "#fde0ef"
            ],
            [
             0.5,
             "#f7f7f7"
            ],
            [
             0.6,
             "#e6f5d0"
            ],
            [
             0.7,
             "#b8e186"
            ],
            [
             0.8,
             "#7fbc41"
            ],
            [
             0.9,
             "#4d9221"
            ],
            [
             1,
             "#276419"
            ]
           ],
           "sequential": [
            [
             0,
             "#0d0887"
            ],
            [
             0.1111111111111111,
             "#46039f"
            ],
            [
             0.2222222222222222,
             "#7201a8"
            ],
            [
             0.3333333333333333,
             "#9c179e"
            ],
            [
             0.4444444444444444,
             "#bd3786"
            ],
            [
             0.5555555555555556,
             "#d8576b"
            ],
            [
             0.6666666666666666,
             "#ed7953"
            ],
            [
             0.7777777777777778,
             "#fb9f3a"
            ],
            [
             0.8888888888888888,
             "#fdca26"
            ],
            [
             1,
             "#f0f921"
            ]
           ],
           "sequentialminus": [
            [
             0,
             "#0d0887"
            ],
            [
             0.1111111111111111,
             "#46039f"
            ],
            [
             0.2222222222222222,
             "#7201a8"
            ],
            [
             0.3333333333333333,
             "#9c179e"
            ],
            [
             0.4444444444444444,
             "#bd3786"
            ],
            [
             0.5555555555555556,
             "#d8576b"
            ],
            [
             0.6666666666666666,
             "#ed7953"
            ],
            [
             0.7777777777777778,
             "#fb9f3a"
            ],
            [
             0.8888888888888888,
             "#fdca26"
            ],
            [
             1,
             "#f0f921"
            ]
           ]
          },
          "colorway": [
           "#636efa",
           "#EF553B",
           "#00cc96",
           "#ab63fa",
           "#FFA15A",
           "#19d3f3",
           "#FF6692",
           "#B6E880",
           "#FF97FF",
           "#FECB52"
          ],
          "font": {
           "color": "#2a3f5f"
          },
          "geo": {
           "bgcolor": "white",
           "lakecolor": "white",
           "landcolor": "#E5ECF6",
           "showlakes": true,
           "showland": true,
           "subunitcolor": "white"
          },
          "hoverlabel": {
           "align": "left"
          },
          "hovermode": "closest",
          "mapbox": {
           "style": "light"
          },
          "paper_bgcolor": "white",
          "plot_bgcolor": "#E5ECF6",
          "polar": {
           "angularaxis": {
            "gridcolor": "white",
            "linecolor": "white",
            "ticks": ""
           },
           "bgcolor": "#E5ECF6",
           "radialaxis": {
            "gridcolor": "white",
            "linecolor": "white",
            "ticks": ""
           }
          },
          "scene": {
           "xaxis": {
            "backgroundcolor": "#E5ECF6",
            "gridcolor": "white",
            "gridwidth": 2,
            "linecolor": "white",
            "showbackground": true,
            "ticks": "",
            "zerolinecolor": "white"
           },
           "yaxis": {
            "backgroundcolor": "#E5ECF6",
            "gridcolor": "white",
            "gridwidth": 2,
            "linecolor": "white",
            "showbackground": true,
            "ticks": "",
            "zerolinecolor": "white"
           },
           "zaxis": {
            "backgroundcolor": "#E5ECF6",
            "gridcolor": "white",
            "gridwidth": 2,
            "linecolor": "white",
            "showbackground": true,
            "ticks": "",
            "zerolinecolor": "white"
           }
          },
          "shapedefaults": {
           "line": {
            "color": "#2a3f5f"
           }
          },
          "ternary": {
           "aaxis": {
            "gridcolor": "white",
            "linecolor": "white",
            "ticks": ""
           },
           "baxis": {
            "gridcolor": "white",
            "linecolor": "white",
            "ticks": ""
           },
           "bgcolor": "#E5ECF6",
           "caxis": {
            "gridcolor": "white",
            "linecolor": "white",
            "ticks": ""
           }
          },
          "title": {
           "x": 0.05
          },
          "xaxis": {
           "automargin": true,
           "gridcolor": "white",
           "linecolor": "white",
           "ticks": "",
           "title": {
            "standoff": 15
           },
           "zerolinecolor": "white",
           "zerolinewidth": 2
          },
          "yaxis": {
           "automargin": true,
           "gridcolor": "white",
           "linecolor": "white",
           "ticks": "",
           "title": {
            "standoff": 15
           },
           "zerolinecolor": "white",
           "zerolinewidth": 2
          }
         }
        },
        "title": {
         "text": "Sunburst Chart of Fleet Roles by Industry"
        }
       }
      }
     },
     "metadata": {},
     "output_type": "display_data"
    }
   ],
   "source": [
    "import plotly.express as px\n",
    "\n",
    "# Columns for industry and roles\n",
    "industry_col = \"Industry\"\n",
    "role_col = \"Fleet Role\"\n",
    "\n",
    "# Clean column names if needed\n",
    "df[industry_col] = df[industry_col].astype(str)\n",
    "df[role_col] = df[role_col].astype(str)\n",
    "\n",
    "# Create counts for each Industry-Role pair\n",
    "sunburst_data = df.groupby([industry_col, role_col]).size().reset_index(name='Count')\n",
    "\n",
    "# Plot Sunburst\n",
    "fig = px.sunburst(\n",
    "    sunburst_data,\n",
    "    path=[industry_col, role_col],\n",
    "    values='Count',\n",
    "    color=industry_col,\n",
    "    title=\"Sunburst Chart of Fleet Roles by Industry\",\n",
    ")\n",
    "\n",
    "fig.update_layout(margin=dict(t=40, l=0, r=0, b=0))\n",
    "fig.show()\n"
   ]
  },
  {
   "cell_type": "code",
   "execution_count": 11,
   "id": "1ae2bd19",
   "metadata": {},
   "outputs": [],
   "source": [
    "fig.write_image(\"sunburst_chart.png\")  # Save as PNG\n"
   ]
  },
  {
   "cell_type": "code",
   "execution_count": null,
   "id": "f4e37a3f",
   "metadata": {},
   "outputs": [
    {
     "data": {
      "application/vnd.plotly.v1+json": {
       "config": {
        "plotlyServerURL": "https://plot.ly"
       },
       "data": [
        {
         "dimensions": [
          {
           "label": "Fleet Size",
           "values": [
            "20-99",
            "20-99",
            "100 or more",
            "100 or more",
            "20-99",
            "20-99",
            "1-20",
            "100 or more",
            "20-99",
            "100 or more",
            "1-20",
            "1-20",
            "20-99",
            "1-20",
            "100 or more",
            "100 or more",
            "20-99",
            "1-20",
            "100 or more",
            "100 or more",
            "1-20",
            "20-99",
            "20-99",
            "20-99",
            "20-99",
            "100 or more",
            "100 or more",
            "20-99",
            "100 or more",
            "20-99",
            "100 or more",
            "100 or more",
            "100 or more",
            "100 or more",
            "100 or more",
            "20-99",
            "1-20",
            "20-99",
            "100 or more",
            "100 or more",
            "20-99",
            "1-20",
            "20-99",
            "20-99",
            "20-99",
            "20-99",
            "100 or more",
            "1-20",
            "100 or more",
            "100 or more",
            "1-20",
            "1-20",
            "100 or more",
            "100 or more",
            "1-20",
            "1-20",
            "20-99",
            "20-99",
            "100 or more",
            "1-20",
            "20-99",
            "100 or more",
            "20-99",
            "20-99",
            "1-20",
            "1-20",
            "1-20",
            "100 or more",
            "100 or more",
            "1-20",
            "100 or more",
            "100 or more",
            "20-99",
            "20-99",
            "1-20",
            "100 or more",
            "1-20",
            "1-20",
            "100 or more",
            "100 or more",
            "100 or more",
            "1-20",
            "1-20",
            "100 or more",
            "100 or more",
            "100 or more",
            "20-99",
            "100 or more",
            "1-20",
            "20-99",
            "1-20",
            "100 or more",
            "1-20",
            "20-99",
            "20-99",
            "100 or more",
            "100 or more",
            "100 or more",
            "100 or more",
            "1-20",
            "20-99",
            "20-99",
            "100 or more",
            "100 or more",
            "20-99",
            "1-20",
            "20-99",
            "1-20",
            "20-99",
            "1-20",
            "20-99",
            "20-99",
            "100 or more",
            "1-20",
            "20-99",
            "100 or more",
            "1-20",
            "20-99",
            "100 or more",
            "100 or more",
            "1-20",
            "20-99",
            "1-20",
            "100 or more",
            "1-20",
            "1-20",
            "100 or more",
            "100 or more",
            "100 or more",
            "100 or more",
            "100 or more",
            "20-99",
            "20-99",
            "20-99",
            "100 or more",
            "100 or more",
            "20-99",
            "20-99",
            "1-20",
            "20-99",
            "1-20",
            "20-99",
            "20-99",
            "100 or more",
            "20-99",
            "1-20",
            "20-99",
            "1-20",
            "20-99",
            "1-20",
            "20-99",
            "100 or more",
            "20-99",
            "100 or more",
            "100 or more",
            "1-20",
            "100 or more",
            "1-20",
            "1-20",
            "1-20",
            "1-20",
            "1-20",
            "100 or more",
            "20-99",
            "100 or more",
            "1-20",
            "1-20",
            "100 or more",
            "1-20",
            "20-99",
            "1-20",
            "100 or more",
            "20-99",
            "1-20",
            "100 or more",
            "20-99",
            "1-20",
            "1-20",
            "1-20",
            "1-20",
            "100 or more",
            "100 or more",
            "100 or more",
            "100 or more",
            "1-20",
            "100 or more",
            "100 or more",
            "1-20",
            "1-20",
            "100 or more",
            "1-20",
            "20-99",
            "100 or more",
            "20-99",
            "100 or more",
            "1-20",
            "20-99",
            "1-20",
            "1-20",
            "1-20",
            "20-99",
            "1-20",
            "100 or more",
            "20-99",
            "1-20",
            "100 or more",
            "20-99",
            "1-20",
            "20-99",
            "100 or more",
            "20-99",
            "20-99",
            "1-20",
            "20-99",
            "1-20",
            "1-20",
            "1-20",
            "1-20",
            "1-20",
            "1-20",
            "1-20",
            "100 or more",
            "1-20",
            "1-20",
            "20-99",
            "20-99",
            "100 or more",
            "100 or more",
            "20-99",
            "1-20",
            "20-99",
            "1-20",
            "100 or more",
            "20-99",
            "100 or more",
            "1-20",
            "100 or more",
            "1-20",
            "1-20",
            "100 or more",
            "20-99",
            "20-99",
            "1-20",
            "20-99",
            "1-20",
            "100 or more",
            "20-99",
            "20-99",
            "100 or more",
            "20-99",
            "1-20",
            "100 or more",
            "1-20",
            "100 or more",
            "1-20",
            "100 or more",
            "20-99",
            "1-20",
            "1-20",
            "20-99",
            "100 or more",
            "20-99",
            "20-99",
            "100 or more",
            "20-99",
            "100 or more",
            "1-20",
            "20-99",
            "100 or more",
            "100 or more",
            "20-99",
            "20-99",
            "100 or more",
            "20-99",
            "100 or more",
            "100 or more",
            "1-20",
            "1-20",
            "100 or more",
            "20-99",
            "100 or more",
            "1-20",
            "100 or more",
            "20-99",
            "100 or more",
            "20-99",
            "1-20",
            "100 or more",
            "20-99",
            "20-99",
            "100 or more",
            "100 or more",
            "100 or more",
            "1-20",
            "100 or more",
            "100 or more",
            "1-20",
            "100 or more",
            "100 or more",
            "100 or more"
           ]
          },
          {
           "label": "Electrification Level",
           "values": [
            null,
            null,
            null,
            null,
            null,
            null,
            null,
            null,
            null,
            null,
            null,
            null,
            null,
            null,
            null,
            null,
            null,
            null,
            null,
            null,
            null,
            null,
            null,
            null,
            null,
            null,
            null,
            null,
            null,
            null,
            null,
            null,
            null,
            null,
            null,
            null,
            null,
            null,
            null,
            null,
            null,
            null,
            null,
            null,
            null,
            null,
            null,
            null,
            null,
            null,
            null,
            null,
            null,
            null,
            null,
            null,
            null,
            null,
            null,
            null,
            null,
            null,
            null,
            null,
            null,
            null,
            null,
            null,
            null,
            null,
            null,
            null,
            null,
            null,
            null,
            null,
            null,
            null,
            null,
            null,
            null,
            null,
            null,
            null,
            null,
            null,
            null,
            null,
            null,
            null,
            null,
            null,
            null,
            null,
            null,
            null,
            null,
            null,
            null,
            null,
            null,
            null,
            null,
            null,
            null,
            null,
            null,
            null,
            null,
            null,
            null,
            null,
            null,
            null,
            null,
            null,
            null,
            null,
            null,
            null,
            null,
            null,
            null,
            null,
            null,
            null,
            null,
            null,
            null,
            null,
            null,
            null,
            null,
            null,
            null,
            null,
            null,
            null,
            null,
            null,
            null,
            null,
            null,
            null,
            null,
            null,
            null,
            null,
            null,
            null,
            null,
            null,
            null,
            null,
            null,
            null,
            null,
            null,
            null,
            null,
            null,
            null,
            null,
            null,
            null,
            null,
            null,
            null,
            null,
            null,
            null,
            null,
            null,
            null,
            null,
            null,
            null,
            null,
            null,
            null,
            null,
            null,
            null,
            null,
            null,
            null,
            null,
            null,
            null,
            null,
            null,
            null,
            null,
            null,
            null,
            null,
            null,
            null,
            null,
            null,
            null,
            null,
            null,
            null,
            null,
            null,
            null,
            null,
            null,
            null,
            null,
            null,
            null,
            null,
            null,
            null,
            null,
            null,
            null,
            null,
            null,
            null,
            null,
            null,
            null,
            null,
            null,
            null,
            null,
            null,
            null,
            null,
            null,
            null,
            null,
            null,
            null,
            null,
            null,
            null,
            null,
            null,
            null,
            null,
            null,
            null,
            null,
            null,
            null,
            null,
            null,
            null,
            null,
            null,
            null,
            null,
            null,
            null,
            null,
            null,
            null,
            null,
            null,
            null,
            null,
            null,
            null,
            null,
            null,
            null,
            null,
            null,
            null,
            null,
            null,
            null,
            null,
            null,
            null,
            null,
            null,
            null,
            null,
            null,
            null,
            null,
            null,
            null,
            null,
            null,
            null,
            null,
            null,
            null,
            null,
            null,
            null,
            null,
            null,
            null
           ]
          },
          {
           "label": "Industry",
           "values": [
            "Food & beverages",
            "Retail",
            "Food & beverages",
            "Food & beverages",
            "Retail",
            "Pharmaceutical",
            "Food & beverages",
            "Transportation",
            "Automotive",
            "Transportation",
            "Manufacturer & distribution",
            "Food & beverages",
            "Manufacturer & distribution",
            "Retail",
            "Transportation",
            "other",
            "other",
            "Transportation",
            "Manufacturer & distribution",
            "Education",
            "Transportation",
            "Transportation",
            "Education",
            "Retail",
            "other",
            "Manufacturer & distribution",
            "Manufacturer & distribution",
            "Education",
            "Retail",
            "Automotive",
            "Transportation",
            "Transportation",
            "Manufacturer & distribution",
            "Education",
            "Transportation",
            "Transportation",
            "other",
            "Manufacturer & distribution",
            "Education",
            "Automotive",
            "Manufacturer & distribution",
            "other",
            "Automotive",
            "Pharmaceutical",
            "Education",
            "Transportation",
            "Retail",
            "Education",
            "Education",
            "Education",
            "other",
            "Education",
            "Pharmaceutical",
            "Education",
            "Education",
            "Retail",
            "Pharmaceutical",
            "Manufacturer & distribution",
            "Manufacturer & distribution",
            "other",
            "Transportation",
            "Transportation",
            "Transportation",
            "Pharmaceutical",
            "Manufacturer & distribution",
            "Food & beverages",
            "Automotive",
            "Transportation",
            "Food & beverages",
            "Transportation",
            "Food & beverages",
            "Automotive",
            "Manufacturer & distribution",
            "Transportation",
            "Food & beverages",
            "Pharmaceutical",
            "Automotive",
            "other",
            "Retail",
            "Pharmaceutical",
            "Retail",
            "other",
            "Transportation",
            "Transportation",
            "Education",
            "Transportation",
            "Food & beverages",
            "Education",
            "Automotive",
            "Food & beverages",
            "Automotive",
            "Pharmaceutical",
            "Transportation",
            "Manufacturer & distribution",
            "Transportation",
            "Manufacturer & distribution",
            "other",
            "Automotive",
            "Automotive",
            "Pharmaceutical",
            "other",
            "other",
            "Food & beverages",
            "Pharmaceutical",
            "Transportation",
            "other",
            "Pharmaceutical",
            "Automotive",
            "Education",
            "Automotive",
            "Automotive",
            "Automotive",
            "Retail",
            "Food & beverages",
            "Transportation",
            "Transportation",
            "Manufacturer & distribution",
            "Transportation",
            "Retail",
            "Education",
            "other",
            "Transportation",
            "Manufacturer & distribution",
            "Education",
            "Retail",
            "Retail",
            "Education",
            "Pharmaceutical",
            "other",
            "Retail",
            "Retail",
            "Pharmaceutical",
            "Transportation",
            "Food & beverages",
            "Retail",
            "Food & beverages",
            "Food & beverages",
            "Food & beverages",
            "Education",
            "other",
            "Retail",
            "Manufacturer & distribution",
            "Pharmaceutical",
            "Retail",
            "Education",
            "Retail",
            "Food & beverages",
            "other",
            "Transportation",
            "Pharmaceutical",
            "Automotive",
            "other",
            "Education",
            "Automotive",
            "Pharmaceutical",
            "Retail",
            "Automotive",
            "Transportation",
            "Retail",
            "Retail",
            "Manufacturer & distribution",
            "Food & beverages",
            "Manufacturer & distribution",
            "other",
            "Retail",
            "Education",
            "Food & beverages",
            "Manufacturer & distribution",
            "Manufacturer & distribution",
            "Manufacturer & distribution",
            "Transportation",
            "Education",
            "Pharmaceutical",
            "Retail",
            "Automotive",
            "Food & beverages",
            "Manufacturer & distribution",
            "Food & beverages",
            "Pharmaceutical",
            "Automotive",
            "other",
            "Education",
            "Retail",
            "Automotive",
            "Automotive",
            "other",
            "Manufacturer & distribution",
            "Food & beverages",
            "Food & beverages",
            "Education",
            "Automotive",
            "Automotive",
            "Food & beverages",
            "Manufacturer & distribution",
            "Automotive",
            "Automotive",
            "other",
            "Transportation",
            "Education",
            "Pharmaceutical",
            "Automotive",
            "Manufacturer & distribution",
            "Automotive",
            "Pharmaceutical",
            "Pharmaceutical",
            "Food & beverages",
            "Food & beverages",
            "Retail",
            "Pharmaceutical",
            "Automotive",
            "Pharmaceutical",
            "Manufacturer & distribution",
            "Transportation",
            "Pharmaceutical",
            "Retail",
            "Food & beverages",
            "Food & beverages",
            "Pharmaceutical",
            "other",
            "Automotive",
            "other",
            "Education",
            "other",
            "Automotive",
            "Retail",
            "Retail",
            "Automotive",
            "Automotive",
            "Retail",
            "Pharmaceutical",
            "Pharmaceutical",
            "Pharmaceutical",
            "Retail",
            "Food & beverages",
            "Manufacturer & distribution",
            "Retail",
            "Automotive",
            "Transportation",
            "other",
            "Automotive",
            "Transportation",
            "Transportation",
            "Manufacturer & distribution",
            "Automotive",
            "Pharmaceutical",
            "Manufacturer & distribution",
            "Pharmaceutical",
            "Retail",
            "Manufacturer & distribution",
            "other",
            "Transportation",
            "other",
            "Retail",
            "Manufacturer & distribution",
            "Retail",
            "Retail",
            "Automotive",
            "Food & beverages",
            "Automotive",
            "Transportation",
            "other",
            "Manufacturer & distribution",
            "Retail",
            "Pharmaceutical",
            "Manufacturer & distribution",
            "Transportation",
            "Education",
            "other",
            "other",
            "other",
            "Manufacturer & distribution",
            "Transportation",
            "Manufacturer & distribution",
            "Transportation",
            "other",
            "Manufacturer & distribution",
            "Education",
            "Food & beverages",
            "Transportation",
            "Education",
            "Food & beverages",
            "other",
            "Retail",
            "other",
            "Automotive",
            "Automotive",
            "Manufacturer & distribution",
            "Automotive",
            "Retail",
            "Food & beverages",
            "Food & beverages",
            "Retail",
            "Food & beverages",
            "other",
            "Automotive",
            "Manufacturer & distribution",
            "Education",
            "Food & beverages",
            "Education",
            "Retail"
           ]
          }
         ],
         "domain": {
          "x": [
           0,
           1
          ],
          "y": [
           0,
           1
          ]
         },
         "line": {
          "color": {
           "bdata": "AAAAAAAA+H8AAAAAAAD4fwAAAAAAAPh/AAAAAAAA+H8AAAAAAAD4fwAAAAAAAPh/AAAAAAAA+H8AAAAAAAD4fwAAAAAAAPh/AAAAAAAA+H8AAAAAAAD4fwAAAAAAAPh/AAAAAAAA+H8AAAAAAAD4fwAAAAAAAPh/AAAAAAAA+H8AAAAAAAD4fwAAAAAAAPh/AAAAAAAA+H8AAAAAAAD4fwAAAAAAAPh/AAAAAAAA+H8AAAAAAAD4fwAAAAAAAPh/AAAAAAAA+H8AAAAAAAD4fwAAAAAAAPh/AAAAAAAA+H8AAAAAAAD4fwAAAAAAAPh/AAAAAAAA+H8AAAAAAAD4fwAAAAAAAPh/AAAAAAAA+H8AAAAAAAD4fwAAAAAAAPh/AAAAAAAA+H8AAAAAAAD4fwAAAAAAAPh/AAAAAAAA+H8AAAAAAAD4fwAAAAAAAPh/AAAAAAAA+H8AAAAAAAD4fwAAAAAAAPh/AAAAAAAA+H8AAAAAAAD4fwAAAAAAAPh/AAAAAAAA+H8AAAAAAAD4fwAAAAAAAPh/AAAAAAAA+H8AAAAAAAD4fwAAAAAAAPh/AAAAAAAA+H8AAAAAAAD4fwAAAAAAAPh/AAAAAAAA+H8AAAAAAAD4fwAAAAAAAPh/AAAAAAAA+H8AAAAAAAD4fwAAAAAAAPh/AAAAAAAA+H8AAAAAAAD4fwAAAAAAAPh/AAAAAAAA+H8AAAAAAAD4fwAAAAAAAPh/AAAAAAAA+H8AAAAAAAD4fwAAAAAAAPh/AAAAAAAA+H8AAAAAAAD4fwAAAAAAAPh/AAAAAAAA+H8AAAAAAAD4fwAAAAAAAPh/AAAAAAAA+H8AAAAAAAD4fwAAAAAAAPh/AAAAAAAA+H8AAAAAAAD4fwAAAAAAAPh/AAAAAAAA+H8AAAAAAAD4fwAAAAAAAPh/AAAAAAAA+H8AAAAAAAD4fwAAAAAAAPh/AAAAAAAA+H8AAAAAAAD4fwAAAAAAAPh/AAAAAAAA+H8AAAAAAAD4fwAAAAAAAPh/AAAAAAAA+H8AAAAAAAD4fwAAAAAAAPh/AAAAAAAA+H8AAAAAAAD4fwAAAAAAAPh/AAAAAAAA+H8AAAAAAAD4fwAAAAAAAPh/AAAAAAAA+H8AAAAAAAD4fwAAAAAAAPh/AAAAAAAA+H8AAAAAAAD4fwAAAAAAAPh/AAAAAAAA+H8AAAAAAAD4fwAAAAAAAPh/AAAAAAAA+H8AAAAAAAD4fwAAAAAAAPh/AAAAAAAA+H8AAAAAAAD4fwAAAAAAAPh/AAAAAAAA+H8AAAAAAAD4fwAAAAAAAPh/AAAAAAAA+H8AAAAAAAD4fwAAAAAAAPh/AAAAAAAA+H8AAAAAAAD4fwAAAAAAAPh/AAAAAAAA+H8AAAAAAAD4fwAAAAAAAPh/AAAAAAAA+H8AAAAAAAD4fwAAAAAAAPh/AAAAAAAA+H8AAAAAAAD4fwAAAAAAAPh/AAAAAAAA+H8AAAAAAAD4fwAAAAAAAPh/AAAAAAAA+H8AAAAAAAD4fwAAAAAAAPh/AAAAAAAA+H8AAAAAAAD4fwAAAAAAAPh/AAAAAAAA+H8AAAAAAAD4fwAAAAAAAPh/AAAAAAAA+H8AAAAAAAD4fwAAAAAAAPh/AAAAAAAA+H8AAAAAAAD4fwAAAAAAAPh/AAAAAAAA+H8AAAAAAAD4fwAAAAAAAPh/AAAAAAAA+H8AAAAAAAD4fwAAAAAAAPh/AAAAAAAA+H8AAAAAAAD4fwAAAAAAAPh/AAAAAAAA+H8AAAAAAAD4fwAAAAAAAPh/AAAAAAAA+H8AAAAAAAD4fwAAAAAAAPh/AAAAAAAA+H8AAAAAAAD4fwAAAAAAAPh/AAAAAAAA+H8AAAAAAAD4fwAAAAAAAPh/AAAAAAAA+H8AAAAAAAD4fwAAAAAAAPh/AAAAAAAA+H8AAAAAAAD4fwAAAAAAAPh/AAAAAAAA+H8AAAAAAAD4fwAAAAAAAPh/AAAAAAAA+H8AAAAAAAD4fwAAAAAAAPh/AAAAAAAA+H8AAAAAAAD4fwAAAAAAAPh/AAAAAAAA+H8AAAAAAAD4fwAAAAAAAPh/AAAAAAAA+H8AAAAAAAD4fwAAAAAAAPh/AAAAAAAA+H8AAAAAAAD4fwAAAAAAAPh/AAAAAAAA+H8AAAAAAAD4fwAAAAAAAPh/AAAAAAAA+H8AAAAAAAD4fwAAAAAAAPh/AAAAAAAA+H8AAAAAAAD4fwAAAAAAAPh/AAAAAAAA+H8AAAAAAAD4fwAAAAAAAPh/AAAAAAAA+H8AAAAAAAD4fwAAAAAAAPh/AAAAAAAA+H8AAAAAAAD4fwAAAAAAAPh/AAAAAAAA+H8AAAAAAAD4fwAAAAAAAPh/AAAAAAAA+H8AAAAAAAD4fwAAAAAAAPh/AAAAAAAA+H8AAAAAAAD4fwAAAAAAAPh/AAAAAAAA+H8AAAAAAAD4fwAAAAAAAPh/AAAAAAAA+H8AAAAAAAD4fwAAAAAAAPh/AAAAAAAA+H8AAAAAAAD4fwAAAAAAAPh/AAAAAAAA+H8AAAAAAAD4fwAAAAAAAPh/AAAAAAAA+H8AAAAAAAD4fwAAAAAAAPh/AAAAAAAA+H8AAAAAAAD4fwAAAAAAAPh/AAAAAAAA+H8AAAAAAAD4fwAAAAAAAPh/AAAAAAAA+H8AAAAAAAD4fwAAAAAAAPh/AAAAAAAA+H8AAAAAAAD4fwAAAAAAAPh/AAAAAAAA+H8AAAAAAAD4fwAAAAAAAPh/AAAAAAAA+H8AAAAAAAD4fwAAAAAAAPh/AAAAAAAA+H8AAAAAAAD4fwAAAAAAAPh/AAAAAAAA+H8AAAAAAAD4fwAAAAAAAPh/AAAAAAAA+H8AAAAAAAD4fwAAAAAAAPh/AAAAAAAA+H8AAAAAAAD4fwAAAAAAAPh/AAAAAAAA+H8AAAAAAAD4fwAAAAAAAPh/AAAAAAAA+H8AAAAAAAD4fwAAAAAAAPh/AAAAAAAA+H8AAAAAAAD4fwAAAAAAAPh/AAAAAAAA+H8AAAAAAAD4fwAAAAAAAPh/AAAAAAAA+H8AAAAAAAD4fwAAAAAAAPh/AAAAAAAA+H8AAAAAAAD4fwAAAAAAAPh/AAAAAAAA+H8AAAAAAAD4fwAAAAAAAPh/AAAAAAAA+H8AAAAAAAD4fwAAAAAAAPh/AAAAAAAA+H8AAAAAAAD4fwAAAAAAAPh/",
           "dtype": "f8"
          },
          "coloraxis": "coloraxis"
         },
         "name": "",
         "type": "parcats"
        }
       ],
       "layout": {
        "coloraxis": {
         "colorbar": {
          "title": {
           "text": "Electrified Percentage"
          }
         },
         "colorscale": [
          [
           0,
           "#440154"
          ],
          [
           0.1111111111111111,
           "#482878"
          ],
          [
           0.2222222222222222,
           "#3e4989"
          ],
          [
           0.3333333333333333,
           "#31688e"
          ],
          [
           0.4444444444444444,
           "#26828e"
          ],
          [
           0.5555555555555556,
           "#1f9e89"
          ],
          [
           0.6666666666666666,
           "#35b779"
          ],
          [
           0.7777777777777778,
           "#6ece58"
          ],
          [
           0.8888888888888888,
           "#b5de2b"
          ],
          [
           1,
           "#fde725"
          ]
         ]
        },
        "legend": {
         "tracegroupgap": 0
        },
        "margin": {
         "t": 60
        },
        "template": {
         "data": {
          "bar": [
           {
            "error_x": {
             "color": "#2a3f5f"
            },
            "error_y": {
             "color": "#2a3f5f"
            },
            "marker": {
             "line": {
              "color": "#E5ECF6",
              "width": 0.5
             },
             "pattern": {
              "fillmode": "overlay",
              "size": 10,
              "solidity": 0.2
             }
            },
            "type": "bar"
           }
          ],
          "barpolar": [
           {
            "marker": {
             "line": {
              "color": "#E5ECF6",
              "width": 0.5
             },
             "pattern": {
              "fillmode": "overlay",
              "size": 10,
              "solidity": 0.2
             }
            },
            "type": "barpolar"
           }
          ],
          "carpet": [
           {
            "aaxis": {
             "endlinecolor": "#2a3f5f",
             "gridcolor": "white",
             "linecolor": "white",
             "minorgridcolor": "white",
             "startlinecolor": "#2a3f5f"
            },
            "baxis": {
             "endlinecolor": "#2a3f5f",
             "gridcolor": "white",
             "linecolor": "white",
             "minorgridcolor": "white",
             "startlinecolor": "#2a3f5f"
            },
            "type": "carpet"
           }
          ],
          "choropleth": [
           {
            "colorbar": {
             "outlinewidth": 0,
             "ticks": ""
            },
            "type": "choropleth"
           }
          ],
          "contour": [
           {
            "colorbar": {
             "outlinewidth": 0,
             "ticks": ""
            },
            "colorscale": [
             [
              0,
              "#0d0887"
             ],
             [
              0.1111111111111111,
              "#46039f"
             ],
             [
              0.2222222222222222,
              "#7201a8"
             ],
             [
              0.3333333333333333,
              "#9c179e"
             ],
             [
              0.4444444444444444,
              "#bd3786"
             ],
             [
              0.5555555555555556,
              "#d8576b"
             ],
             [
              0.6666666666666666,
              "#ed7953"
             ],
             [
              0.7777777777777778,
              "#fb9f3a"
             ],
             [
              0.8888888888888888,
              "#fdca26"
             ],
             [
              1,
              "#f0f921"
             ]
            ],
            "type": "contour"
           }
          ],
          "contourcarpet": [
           {
            "colorbar": {
             "outlinewidth": 0,
             "ticks": ""
            },
            "type": "contourcarpet"
           }
          ],
          "heatmap": [
           {
            "colorbar": {
             "outlinewidth": 0,
             "ticks": ""
            },
            "colorscale": [
             [
              0,
              "#0d0887"
             ],
             [
              0.1111111111111111,
              "#46039f"
             ],
             [
              0.2222222222222222,
              "#7201a8"
             ],
             [
              0.3333333333333333,
              "#9c179e"
             ],
             [
              0.4444444444444444,
              "#bd3786"
             ],
             [
              0.5555555555555556,
              "#d8576b"
             ],
             [
              0.6666666666666666,
              "#ed7953"
             ],
             [
              0.7777777777777778,
              "#fb9f3a"
             ],
             [
              0.8888888888888888,
              "#fdca26"
             ],
             [
              1,
              "#f0f921"
             ]
            ],
            "type": "heatmap"
           }
          ],
          "histogram": [
           {
            "marker": {
             "pattern": {
              "fillmode": "overlay",
              "size": 10,
              "solidity": 0.2
             }
            },
            "type": "histogram"
           }
          ],
          "histogram2d": [
           {
            "colorbar": {
             "outlinewidth": 0,
             "ticks": ""
            },
            "colorscale": [
             [
              0,
              "#0d0887"
             ],
             [
              0.1111111111111111,
              "#46039f"
             ],
             [
              0.2222222222222222,
              "#7201a8"
             ],
             [
              0.3333333333333333,
              "#9c179e"
             ],
             [
              0.4444444444444444,
              "#bd3786"
             ],
             [
              0.5555555555555556,
              "#d8576b"
             ],
             [
              0.6666666666666666,
              "#ed7953"
             ],
             [
              0.7777777777777778,
              "#fb9f3a"
             ],
             [
              0.8888888888888888,
              "#fdca26"
             ],
             [
              1,
              "#f0f921"
             ]
            ],
            "type": "histogram2d"
           }
          ],
          "histogram2dcontour": [
           {
            "colorbar": {
             "outlinewidth": 0,
             "ticks": ""
            },
            "colorscale": [
             [
              0,
              "#0d0887"
             ],
             [
              0.1111111111111111,
              "#46039f"
             ],
             [
              0.2222222222222222,
              "#7201a8"
             ],
             [
              0.3333333333333333,
              "#9c179e"
             ],
             [
              0.4444444444444444,
              "#bd3786"
             ],
             [
              0.5555555555555556,
              "#d8576b"
             ],
             [
              0.6666666666666666,
              "#ed7953"
             ],
             [
              0.7777777777777778,
              "#fb9f3a"
             ],
             [
              0.8888888888888888,
              "#fdca26"
             ],
             [
              1,
              "#f0f921"
             ]
            ],
            "type": "histogram2dcontour"
           }
          ],
          "mesh3d": [
           {
            "colorbar": {
             "outlinewidth": 0,
             "ticks": ""
            },
            "type": "mesh3d"
           }
          ],
          "parcoords": [
           {
            "line": {
             "colorbar": {
              "outlinewidth": 0,
              "ticks": ""
             }
            },
            "type": "parcoords"
           }
          ],
          "pie": [
           {
            "automargin": true,
            "type": "pie"
           }
          ],
          "scatter": [
           {
            "fillpattern": {
             "fillmode": "overlay",
             "size": 10,
             "solidity": 0.2
            },
            "type": "scatter"
           }
          ],
          "scatter3d": [
           {
            "line": {
             "colorbar": {
              "outlinewidth": 0,
              "ticks": ""
             }
            },
            "marker": {
             "colorbar": {
              "outlinewidth": 0,
              "ticks": ""
             }
            },
            "type": "scatter3d"
           }
          ],
          "scattercarpet": [
           {
            "marker": {
             "colorbar": {
              "outlinewidth": 0,
              "ticks": ""
             }
            },
            "type": "scattercarpet"
           }
          ],
          "scattergeo": [
           {
            "marker": {
             "colorbar": {
              "outlinewidth": 0,
              "ticks": ""
             }
            },
            "type": "scattergeo"
           }
          ],
          "scattergl": [
           {
            "marker": {
             "colorbar": {
              "outlinewidth": 0,
              "ticks": ""
             }
            },
            "type": "scattergl"
           }
          ],
          "scattermap": [
           {
            "marker": {
             "colorbar": {
              "outlinewidth": 0,
              "ticks": ""
             }
            },
            "type": "scattermap"
           }
          ],
          "scattermapbox": [
           {
            "marker": {
             "colorbar": {
              "outlinewidth": 0,
              "ticks": ""
             }
            },
            "type": "scattermapbox"
           }
          ],
          "scatterpolar": [
           {
            "marker": {
             "colorbar": {
              "outlinewidth": 0,
              "ticks": ""
             }
            },
            "type": "scatterpolar"
           }
          ],
          "scatterpolargl": [
           {
            "marker": {
             "colorbar": {
              "outlinewidth": 0,
              "ticks": ""
             }
            },
            "type": "scatterpolargl"
           }
          ],
          "scatterternary": [
           {
            "marker": {
             "colorbar": {
              "outlinewidth": 0,
              "ticks": ""
             }
            },
            "type": "scatterternary"
           }
          ],
          "surface": [
           {
            "colorbar": {
             "outlinewidth": 0,
             "ticks": ""
            },
            "colorscale": [
             [
              0,
              "#0d0887"
             ],
             [
              0.1111111111111111,
              "#46039f"
             ],
             [
              0.2222222222222222,
              "#7201a8"
             ],
             [
              0.3333333333333333,
              "#9c179e"
             ],
             [
              0.4444444444444444,
              "#bd3786"
             ],
             [
              0.5555555555555556,
              "#d8576b"
             ],
             [
              0.6666666666666666,
              "#ed7953"
             ],
             [
              0.7777777777777778,
              "#fb9f3a"
             ],
             [
              0.8888888888888888,
              "#fdca26"
             ],
             [
              1,
              "#f0f921"
             ]
            ],
            "type": "surface"
           }
          ],
          "table": [
           {
            "cells": {
             "fill": {
              "color": "#EBF0F8"
             },
             "line": {
              "color": "white"
             }
            },
            "header": {
             "fill": {
              "color": "#C8D4E3"
             },
             "line": {
              "color": "white"
             }
            },
            "type": "table"
           }
          ]
         },
         "layout": {
          "annotationdefaults": {
           "arrowcolor": "#2a3f5f",
           "arrowhead": 0,
           "arrowwidth": 1
          },
          "autotypenumbers": "strict",
          "coloraxis": {
           "colorbar": {
            "outlinewidth": 0,
            "ticks": ""
           }
          },
          "colorscale": {
           "diverging": [
            [
             0,
             "#8e0152"
            ],
            [
             0.1,
             "#c51b7d"
            ],
            [
             0.2,
             "#de77ae"
            ],
            [
             0.3,
             "#f1b6da"
            ],
            [
             0.4,
             "#fde0ef"
            ],
            [
             0.5,
             "#f7f7f7"
            ],
            [
             0.6,
             "#e6f5d0"
            ],
            [
             0.7,
             "#b8e186"
            ],
            [
             0.8,
             "#7fbc41"
            ],
            [
             0.9,
             "#4d9221"
            ],
            [
             1,
             "#276419"
            ]
           ],
           "sequential": [
            [
             0,
             "#0d0887"
            ],
            [
             0.1111111111111111,
             "#46039f"
            ],
            [
             0.2222222222222222,
             "#7201a8"
            ],
            [
             0.3333333333333333,
             "#9c179e"
            ],
            [
             0.4444444444444444,
             "#bd3786"
            ],
            [
             0.5555555555555556,
             "#d8576b"
            ],
            [
             0.6666666666666666,
             "#ed7953"
            ],
            [
             0.7777777777777778,
             "#fb9f3a"
            ],
            [
             0.8888888888888888,
             "#fdca26"
            ],
            [
             1,
             "#f0f921"
            ]
           ],
           "sequentialminus": [
            [
             0,
             "#0d0887"
            ],
            [
             0.1111111111111111,
             "#46039f"
            ],
            [
             0.2222222222222222,
             "#7201a8"
            ],
            [
             0.3333333333333333,
             "#9c179e"
            ],
            [
             0.4444444444444444,
             "#bd3786"
            ],
            [
             0.5555555555555556,
             "#d8576b"
            ],
            [
             0.6666666666666666,
             "#ed7953"
            ],
            [
             0.7777777777777778,
             "#fb9f3a"
            ],
            [
             0.8888888888888888,
             "#fdca26"
            ],
            [
             1,
             "#f0f921"
            ]
           ]
          },
          "colorway": [
           "#636efa",
           "#EF553B",
           "#00cc96",
           "#ab63fa",
           "#FFA15A",
           "#19d3f3",
           "#FF6692",
           "#B6E880",
           "#FF97FF",
           "#FECB52"
          ],
          "font": {
           "color": "#2a3f5f"
          },
          "geo": {
           "bgcolor": "white",
           "lakecolor": "white",
           "landcolor": "#E5ECF6",
           "showlakes": true,
           "showland": true,
           "subunitcolor": "white"
          },
          "hoverlabel": {
           "align": "left"
          },
          "hovermode": "closest",
          "mapbox": {
           "style": "light"
          },
          "paper_bgcolor": "white",
          "plot_bgcolor": "#E5ECF6",
          "polar": {
           "angularaxis": {
            "gridcolor": "white",
            "linecolor": "white",
            "ticks": ""
           },
           "bgcolor": "#E5ECF6",
           "radialaxis": {
            "gridcolor": "white",
            "linecolor": "white",
            "ticks": ""
           }
          },
          "scene": {
           "xaxis": {
            "backgroundcolor": "#E5ECF6",
            "gridcolor": "white",
            "gridwidth": 2,
            "linecolor": "white",
            "showbackground": true,
            "ticks": "",
            "zerolinecolor": "white"
           },
           "yaxis": {
            "backgroundcolor": "#E5ECF6",
            "gridcolor": "white",
            "gridwidth": 2,
            "linecolor": "white",
            "showbackground": true,
            "ticks": "",
            "zerolinecolor": "white"
           },
           "zaxis": {
            "backgroundcolor": "#E5ECF6",
            "gridcolor": "white",
            "gridwidth": 2,
            "linecolor": "white",
            "showbackground": true,
            "ticks": "",
            "zerolinecolor": "white"
           }
          },
          "shapedefaults": {
           "line": {
            "color": "#2a3f5f"
           }
          },
          "ternary": {
           "aaxis": {
            "gridcolor": "white",
            "linecolor": "white",
            "ticks": ""
           },
           "baxis": {
            "gridcolor": "white",
            "linecolor": "white",
            "ticks": ""
           },
           "bgcolor": "#E5ECF6",
           "caxis": {
            "gridcolor": "white",
            "linecolor": "white",
            "ticks": ""
           }
          },
          "title": {
           "x": 0.05
          },
          "xaxis": {
           "automargin": true,
           "gridcolor": "white",
           "linecolor": "white",
           "ticks": "",
           "title": {
            "standoff": 15
           },
           "zerolinecolor": "white",
           "zerolinewidth": 2
          },
          "yaxis": {
           "automargin": true,
           "gridcolor": "white",
           "linecolor": "white",
           "ticks": "",
           "title": {
            "standoff": 15
           },
           "zerolinecolor": "white",
           "zerolinewidth": 2
          }
         }
        },
        "title": {
         "text": "Parallel Categories Diagram: Fleet Size, Electrification Level, and Industry"
        }
       }
      }
     },
     "metadata": {},
     "output_type": "display_data"
    }
   ],
   "source": [
    "# Bin Electrified Percentage for clearer categories\n",
    "bins = [0, 20, 40, 60, 80, 100]\n",
    "labels = ['0-20%', '21-40%', '41-60%', '61-80%', '81-100%']\n",
    "df['Electrified_Percent_Bin'] = pd.cut(df['Electrified Percentage'], bins=bins, labels=labels, include_lowest=True)\n",
    "\n",
    "fig = px.parallel_categories(\n",
    "    df,\n",
    "    dimensions=['Fleet Size', 'Electrified_Percent_Bin', 'Industry'],\n",
    "    color='Electrified Percentage',\n",
    "    color_continuous_scale=px.colors.sequential.Viridis,\n",
    "    labels={'Electrified_Percent_Bin': 'Electrification Level'}\n",
    ")\n",
    "\n",
    "fig.update_layout(title='Parallel Categories Diagram: Fleet Size, Electrification Level, and Industry')\n",
    "fig.show()\n"
   ]
  }
 ],
 "metadata": {
  "kernelspec": {
   "display_name": "Python 3",
   "language": "python",
   "name": "python3"
  },
  "language_info": {
   "codemirror_mode": {
    "name": "ipython",
    "version": 3
   },
   "file_extension": ".py",
   "mimetype": "text/x-python",
   "name": "python",
   "nbconvert_exporter": "python",
   "pygments_lexer": "ipython3",
   "version": "3.12.3"
  }
 },
 "nbformat": 4,
 "nbformat_minor": 5
}
